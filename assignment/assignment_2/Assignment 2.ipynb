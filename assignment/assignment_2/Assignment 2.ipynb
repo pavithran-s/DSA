{
 "cells": [
  {
   "cell_type": "markdown",
   "metadata": {
    "id": "vs4GA1mTgqqw"
   },
   "source": [
    "##### **Assignment Problem 1 :** \n",
    "input : Sorted array of n distinct elements which are integers\n",
    "\n",
    "output : Find any element in an array such that an array element and it's corresponding index is same meaning array[i] = i.\n",
    "\n",
    "Write an optimised code with its time complexity for above problem statement."
   ]
  },
  {
   "cell_type": "code",
   "execution_count": 1,
   "metadata": {},
   "outputs": [
    {
     "data": {
      "text/plain": [
       "2"
      ]
     },
     "execution_count": 1,
     "metadata": {},
     "output_type": "execute_result"
    }
   ],
   "source": [
    "# Used Binary Search\n",
    "# Time complexity O(logn)\n",
    "\n",
    "def find_same_index_value(arr,low,high):\n",
    "    if low == high:\n",
    "        #small problem\n",
    "        if arr[low] == low:\n",
    "            return low\n",
    "    else:\n",
    "        # big problem\n",
    "        mid = low + (high - low)//2\n",
    "        if mid == arr[mid]:\n",
    "            return mid\n",
    "        elif mid > arr[mid]:\n",
    "            #right side\n",
    "            if mid+1 <= high:\n",
    "                return find_same_index_value(arr,mid+1,high)\n",
    "        elif mid < arr[mid]:\n",
    "            #left side\n",
    "            if low <= mid-1:\n",
    "                return find_same_index_value(arr,low,mid-1)\n",
    "    return -1\n",
    "\n",
    "\n",
    "arr = [-5,2,2,5,10,12]\n",
    "low = 0\n",
    "high = len(arr) - 1\n",
    "find_same_index_value(arr,low,high)"
   ]
  },
  {
   "cell_type": "markdown",
   "metadata": {
    "id": "-Yk1MLUXFqKw"
   },
   "source": [
    "**Assignment Problem 2 :**\n",
    "[\n",
    "Two Sum Problem](https://leetcode.com/problems/two-sum/)"
   ]
  },
  {
   "cell_type": "code",
   "execution_count": 2,
   "metadata": {},
   "outputs": [],
   "source": [
    "# Binary search is not applicable because array is not sorted"
   ]
  },
  {
   "cell_type": "code",
   "execution_count": 3,
   "metadata": {},
   "outputs": [
    {
     "data": {
      "text/plain": [
       "[1, 2]"
      ]
     },
     "execution_count": 3,
     "metadata": {},
     "output_type": "execute_result"
    }
   ],
   "source": [
    "# answer\n",
    "#learnt from internet (using hash map)\n",
    "# Time complexity - O(n)\n",
    "def func(nums, target):\n",
    "    seen = {}\n",
    "    for index, value in enumerate(nums):\n",
    "        minus = target - value      \n",
    "        if minus in seen:\n",
    "            return [seen[minus], index]\n",
    "        seen[value] = index       \n",
    "nums = [3,2,4,5]\n",
    "target = 6\n",
    "func(nums, target)"
   ]
  },
  {
   "cell_type": "code",
   "execution_count": 4,
   "metadata": {},
   "outputs": [
    {
     "name": "stdout",
     "output_type": "stream",
     "text": [
      "[0, 2]\n"
     ]
    }
   ],
   "source": [
    "# only works on sorted array\n",
    "# tine complexity - O(n)\n",
    "nums = [2,3,4,5]\n",
    "target = 6\n",
    "p = 0\n",
    "q = len(nums) - 1\n",
    "result = list()\n",
    "while p < q:\n",
    "    sum_v = nums[p] + nums[q]\n",
    "    if sum_v == target:\n",
    "        result.append(p)\n",
    "        result.append(q)\n",
    "        break\n",
    "    elif sum_v > target:\n",
    "        q -= 1\n",
    "    else:\n",
    "        p += 1\n",
    "print(result)"
   ]
  },
  {
   "cell_type": "code",
   "execution_count": null,
   "metadata": {},
   "outputs": [],
   "source": []
  }
 ],
 "metadata": {
  "colab": {
   "collapsed_sections": [],
   "name": "SearchAlgorithms.ipynb",
   "provenance": []
  },
  "kernelspec": {
   "display_name": "Python 3",
   "language": "python",
   "name": "python3"
  },
  "language_info": {
   "codemirror_mode": {
    "name": "ipython",
    "version": 3
   },
   "file_extension": ".py",
   "mimetype": "text/x-python",
   "name": "python",
   "nbconvert_exporter": "python",
   "pygments_lexer": "ipython3",
   "version": "3.6.9"
  }
 },
 "nbformat": 4,
 "nbformat_minor": 1
}
