{
 "cells": [
  {
   "cell_type": "markdown",
   "metadata": {},
   "source": [
    "## Quick Sort"
   ]
  },
  {
   "cell_type": "code",
   "execution_count": null,
   "metadata": {},
   "outputs": [],
   "source": [
    "# Own implementation\n",
    "def swap(arr,swap_idx):\n",
    "    temp = arr[swap_idx[0]]\n",
    "    arr[swap_idx[0]] = arr[swap_idx[1]]\n",
    "    arr[swap_idx[1]] = temp\n",
    "    \n",
    "def quicksort(arr,initial_idx,final_idx):\n",
    "\n",
    "    if final_idx - initial_idx > 1:\n",
    "        pivat_idx = initial_idx\n",
    "        i = initial_idx\n",
    "        for j in range(i+1,final_idx):\n",
    "            if arr[pivat_idx] >= arr[j]:\n",
    "                i += 1\n",
    "                swap(arr,(i,j))\n",
    "        swap(arr,(pivat_idx,i))\n",
    "\n",
    "        mid = i\n",
    "        #left\n",
    "        quicksort(arr,initial_idx,mid)\n",
    "        #right\n",
    "        quicksort(arr,mid+1,final_idx)"
   ]
  },
  {
   "cell_type": "code",
   "execution_count": null,
   "metadata": {},
   "outputs": [],
   "source": [
    "arr = [50, 70, 80, 30, 40, 88, 19, 27, 69]\n",
    "quicksort(arr,0,len(arr))"
   ]
  },
  {
   "cell_type": "code",
   "execution_count": null,
   "metadata": {},
   "outputs": [],
   "source": [
    "arr"
   ]
  },
  {
   "cell_type": "code",
   "execution_count": null,
   "metadata": {},
   "outputs": [],
   "source": []
  },
  {
   "cell_type": "code",
   "execution_count": null,
   "metadata": {},
   "outputs": [],
   "source": []
  },
  {
   "cell_type": "code",
   "execution_count": null,
   "metadata": {},
   "outputs": [],
   "source": []
  },
  {
   "cell_type": "code",
   "execution_count": null,
   "metadata": {},
   "outputs": [],
   "source": []
  },
  {
   "cell_type": "code",
   "execution_count": null,
   "metadata": {},
   "outputs": [],
   "source": []
  },
  {
   "cell_type": "code",
   "execution_count": null,
   "metadata": {},
   "outputs": [],
   "source": []
  },
  {
   "cell_type": "code",
   "execution_count": null,
   "metadata": {},
   "outputs": [],
   "source": []
  },
  {
   "cell_type": "code",
   "execution_count": null,
   "metadata": {},
   "outputs": [],
   "source": []
  },
  {
   "cell_type": "code",
   "execution_count": null,
   "metadata": {},
   "outputs": [],
   "source": []
  },
  {
   "cell_type": "code",
   "execution_count": null,
   "metadata": {},
   "outputs": [],
   "source": []
  },
  {
   "cell_type": "code",
   "execution_count": null,
   "metadata": {},
   "outputs": [],
   "source": []
  },
  {
   "cell_type": "code",
   "execution_count": null,
   "metadata": {},
   "outputs": [],
   "source": []
  },
  {
   "cell_type": "code",
   "execution_count": null,
   "metadata": {},
   "outputs": [],
   "source": []
  },
  {
   "cell_type": "code",
   "execution_count": null,
   "metadata": {},
   "outputs": [],
   "source": []
  },
  {
   "cell_type": "code",
   "execution_count": 34,
   "metadata": {},
   "outputs": [],
   "source": [
    "def partition(arr, first_idx, last_idx):\n",
    "    \n",
    "    pivot_index = first_idx                                  # STEP 1: Initialise pivot element, i, j\n",
    "    i = first_idx\n",
    "    for j in range(first_idx+1, last_idx+1):\n",
    "        if arr[pivot_index] >= arr[j]:                       # STEP 2: compare pivot element and jth element\n",
    "            i += 1                                           # STEP 3: if True: increment i by 1\n",
    "            arr[i], arr[j] = arr[j], arr[i]                  # STEP 4: Then swap ith and jth element\n",
    "                                                             # STEP 5: Increment j by 1 and move to step 2 until loop ends\n",
    "    arr[pivot_index], arr[i] = arr[i], arr[pivot_index]      # STEP 6: After loop ends, swap pivot element and ith element\n",
    "    \n",
    "    return i    "
   ]
  },
  {
   "cell_type": "code",
   "execution_count": 38,
   "metadata": {},
   "outputs": [],
   "source": [
    "def quicksort(arr, first_idx, last_idx, call):\n",
    "    print(arr, first_idx, last_idx, call)\n",
    "    if first_idx >= last_idx:\n",
    "        #small problem\n",
    "        print(\"length>\", len(arr))\n",
    "        #return 1\n",
    "        pass\n",
    "    else:\n",
    "        # Partition\n",
    "        mid_index = partition(arr, first_idx, last_idx)\n",
    "        print(mid_index)\n",
    "        # left side\n",
    "        quicksort(arr, first_idx, mid_index - 1, call = \"left\")\n",
    "        # right side\n",
    "        quicksort(arr, mid_index + 1, last_idx, call = \"right\")\n",
    "    #return 1"
   ]
  },
  {
   "cell_type": "code",
   "execution_count": 39,
   "metadata": {},
   "outputs": [
    {
     "name": "stdout",
     "output_type": "stream",
     "text": [
      "[50, 70, 80, 30, 40, 88, 19, 27, 69] 0 8 start\n",
      "4\n",
      "[27, 30, 40, 19, 50, 88, 70, 80, 69] 0 3 left\n",
      "1\n",
      "[19, 27, 40, 30, 50, 88, 70, 80, 69] 0 0 left\n",
      "length> 9\n",
      "[19, 27, 40, 30, 50, 88, 70, 80, 69] 2 3 right\n",
      "3\n",
      "[19, 27, 30, 40, 50, 88, 70, 80, 69] 2 2 left\n",
      "length> 9\n",
      "[19, 27, 30, 40, 50, 88, 70, 80, 69] 4 3 right\n",
      "length> 9\n",
      "[19, 27, 30, 40, 50, 88, 70, 80, 69] 5 8 right\n",
      "8\n",
      "[19, 27, 30, 40, 50, 69, 70, 80, 88] 5 7 left\n",
      "5\n",
      "[19, 27, 30, 40, 50, 69, 70, 80, 88] 5 4 left\n",
      "length> 9\n",
      "[19, 27, 30, 40, 50, 69, 70, 80, 88] 6 7 right\n",
      "6\n",
      "[19, 27, 30, 40, 50, 69, 70, 80, 88] 6 5 left\n",
      "length> 9\n",
      "[19, 27, 30, 40, 50, 69, 70, 80, 88] 7 7 right\n",
      "length> 9\n",
      "[19, 27, 30, 40, 50, 69, 70, 80, 88] 9 8 right\n",
      "length> 9\n"
     ]
    }
   ],
   "source": [
    "arr = [50, 70, 80, 30, 40, 88, 19, 27, 69]\n",
    "quicksort(arr,0,len(arr)-1, call = \"start\")"
   ]
  },
  {
   "cell_type": "code",
   "execution_count": 37,
   "metadata": {},
   "outputs": [
    {
     "data": {
      "text/plain": [
       "[19, 27, 30, 40, 50, 69, 70, 80, 88]"
      ]
     },
     "execution_count": 37,
     "metadata": {},
     "output_type": "execute_result"
    }
   ],
   "source": [
    "arr"
   ]
  },
  {
   "cell_type": "code",
   "execution_count": null,
   "metadata": {},
   "outputs": [],
   "source": []
  },
  {
   "cell_type": "code",
   "execution_count": null,
   "metadata": {},
   "outputs": [],
   "source": []
  },
  {
   "cell_type": "code",
   "execution_count": null,
   "metadata": {},
   "outputs": [],
   "source": []
  },
  {
   "cell_type": "code",
   "execution_count": 2,
   "metadata": {},
   "outputs": [
    {
     "ename": "SyntaxError",
     "evalue": "invalid syntax (<ipython-input-2-028663a6930f>, line 65)",
     "output_type": "error",
     "traceback": [
      "\u001b[0;36m  File \u001b[0;32m\"<ipython-input-2-028663a6930f>\"\u001b[0;36m, line \u001b[0;32m65\u001b[0m\n\u001b[0;31m    print(array)\u001b[0m\n\u001b[0m        ^\u001b[0m\n\u001b[0;31mSyntaxError\u001b[0m\u001b[0;31m:\u001b[0m invalid syntax\n"
     ]
    }
   ],
   "source": [
    "# Python implementation QuickSort using\n",
    "# Lomuto's partition Scheme.\n",
    "import random\n",
    "\n",
    "def quicksort(arr, start , stop):\n",
    "    if(start < stop):\n",
    "        \n",
    "        pivotindex = partitionrand(arr, start, stop)\n",
    "         \n",
    "        quicksort(arr , start , pivotindex-1)\n",
    "        quicksort(arr, pivotindex + 1, stop)\n",
    " \n",
    "\n",
    "def partitionrand(arr , start, stop):\n",
    " \n",
    "    randpivot = random.randrange(start, stop)\n",
    "    arr[start], arr[randpivot] = arr[randpivot], arr[start]\n",
    "    return partition(arr, start, stop)\n",
    " \n",
    "\n",
    "def partition(arr,start,stop):\n",
    "    pivot = start # pivot\n",
    "\n",
    "    i = start + 1\n",
    "\n",
    "    for j in range(start + 1, stop + 1):\n",
    "\n",
    "        if arr[j] <= arr[pivot]:\n",
    "            arr[i] , arr[j] = arr[j] , arr[i]\n",
    "            i = i + 1\n",
    "    arr[pivot] , arr[i - 1] = arr[i - 1] , arr[pivot]\n",
    "    pivot = i - 1\n",
    "    return (pivot)\n",
    " \n",
    "# Driver Code\n",
    "if __name__ == \"__main__\":\n",
    "    array = [10, 7, 8, 9, 1, 5]\n",
    "    quicksort(array, 0, len(array) - 1\n",
    "            \n",
    "    \n",
    "    print(array)\n",
    " \n"
   ]
  },
  {
   "cell_type": "code",
   "execution_count": null,
   "metadata": {},
   "outputs": [],
   "source": [
    "\n",
    "\n",
    "\n",
    "\n",
    "\n"
   ]
  }
 ],
 "metadata": {
  "kernelspec": {
   "display_name": "Python 3",
   "language": "python",
   "name": "python3"
  },
  "language_info": {
   "codemirror_mode": {
    "name": "ipython",
    "version": 3
   },
   "file_extension": ".py",
   "mimetype": "text/x-python",
   "name": "python",
   "nbconvert_exporter": "python",
   "pygments_lexer": "ipython3",
   "version": "3.6.9"
  }
 },
 "nbformat": 4,
 "nbformat_minor": 4
}
