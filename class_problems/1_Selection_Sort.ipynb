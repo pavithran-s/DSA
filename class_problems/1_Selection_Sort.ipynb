{
 "cells": [
  {
   "cell_type": "code",
   "execution_count": 12,
   "metadata": {},
   "outputs": [],
   "source": [
    "def selection_sort(arr):\n",
    "    for i in range(0, len(arr)):\n",
    "        min_value_index = i\n",
    "        for j in range(i+1, len(arr)):\n",
    "            if arr[min_value_index] > arr[j]:\n",
    "                min_value_index = j\n",
    "        #Swap\n",
    "        arr[i], arr[min_value_index] = arr[min_value_index], arr[i]\n",
    "    return arr"
   ]
  },
  {
   "cell_type": "code",
   "execution_count": 15,
   "metadata": {},
   "outputs": [
    {
     "data": {
      "text/plain": [
       "[1, 2, 3, 4, 6, 7, 9]"
      ]
     },
     "execution_count": 15,
     "metadata": {},
     "output_type": "execute_result"
    }
   ],
   "source": [
    "arr = [3, 6, 1, 4, 9, 7, 2]\n",
    "# arr = [5,4,3,2,1]\n",
    "selection_sort(arr)"
   ]
  }
 ],
 "metadata": {
  "kernelspec": {
   "display_name": "Python 3",
   "language": "python",
   "name": "python3"
  },
  "language_info": {
   "codemirror_mode": {
    "name": "ipython",
    "version": 3
   },
   "file_extension": ".py",
   "mimetype": "text/x-python",
   "name": "python",
   "nbconvert_exporter": "python",
   "pygments_lexer": "ipython3",
   "version": "3.6.9"
  }
 },
 "nbformat": 4,
 "nbformat_minor": 2
}
