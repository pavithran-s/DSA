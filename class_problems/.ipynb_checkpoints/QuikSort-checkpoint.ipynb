{
 "cells": [
  {
   "cell_type": "markdown",
   "metadata": {},
   "source": [
    "## Quick Sort"
   ]
  },
  {
   "cell_type": "code",
   "execution_count": 1,
   "metadata": {},
   "outputs": [],
   "source": [
    "# Own implementation\n",
    "def swap(arr,swap_idx):\n",
    "    temp = arr[swap_idx[0]]\n",
    "    arr[swap_idx[0]] = arr[swap_idx[1]]\n",
    "    arr[swap_idx[1]] = temp\n",
    "    \n",
    "def quicksort(arr,initial_idx,final_idx):\n",
    "\n",
    "    if final_idx - initial_idx > 1:\n",
    "        pivat_idx = initial_idx\n",
    "        i = initial_idx\n",
    "        for j in range(i+1,final_idx):\n",
    "            if arr[pivat_idx] >= arr[j]:\n",
    "                i += 1\n",
    "                swap(arr,(i,j))\n",
    "        swap(arr,(pivat_idx,i))\n",
    "\n",
    "        mid = i\n",
    "        #left\n",
    "        quicksort(arr,initial_idx,mid)\n",
    "        #right\n",
    "        quicksort(arr,mid+1,final_idx)"
   ]
  },
  {
   "cell_type": "code",
   "execution_count": 2,
   "metadata": {},
   "outputs": [],
   "source": [
    "arr = [50, 70, 80, 30, 40, 88, 19, 27, 69]\n",
    "quicksort(arr,0,len(arr))"
   ]
  },
  {
   "cell_type": "code",
   "execution_count": 3,
   "metadata": {},
   "outputs": [
    {
     "data": {
      "text/plain": [
       "[19, 27, 30, 40, 50, 69, 70, 80, 88]"
      ]
     },
     "execution_count": 3,
     "metadata": {},
     "output_type": "execute_result"
    }
   ],
   "source": [
    "arr"
   ]
  },
  {
   "cell_type": "code",
   "execution_count": null,
   "metadata": {},
   "outputs": [],
   "source": []
  }
 ],
 "metadata": {
  "kernelspec": {
   "display_name": "Python 3",
   "language": "python",
   "name": "python3"
  },
  "language_info": {
   "codemirror_mode": {
    "name": "ipython",
    "version": 3
   },
   "file_extension": ".py",
   "mimetype": "text/x-python",
   "name": "python",
   "nbconvert_exporter": "python",
   "pygments_lexer": "ipython3",
   "version": "3.7.6"
  }
 },
 "nbformat": 4,
 "nbformat_minor": 4
}
