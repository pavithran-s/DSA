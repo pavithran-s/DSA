{
 "cells": [
  {
   "cell_type": "markdown",
   "metadata": {
    "id": "WXd4H085bZjD"
   },
   "source": [
    "#### **First application of Divide and Conquer**\n",
    "1. Binary Search : This Search algorithm works in an array of elements that are already **sorted** by ignoring half of the elements after just one comparison and the basic principle of binary search designing is **divide and conquer algorithms paradigm**.\n",
    "2. iNeuron class 10th April and 11th April"
   ]
  },
  {
   "cell_type": "markdown",
   "metadata": {
    "id": "sr7Zq2dlbVI8"
   },
   "source": [
    "#### **Linear Search Implementation**\n"
   ]
  },
  {
   "cell_type": "code",
   "execution_count": null,
   "metadata": {
    "colab": {
     "base_uri": "https://localhost:8080/"
    },
    "id": "GIcmV2bOZY7Y",
    "outputId": "b12d7fbf-b8f6-405f-ed20-c82a6b5f08ca"
   },
   "outputs": [
    {
     "data": {
      "text/plain": [
       "2"
      ]
     },
     "execution_count": 9,
     "metadata": {
      "tags": []
     },
     "output_type": "execute_result"
    }
   ],
   "source": [
    "## Linear Search Algorithm Implementation\n",
    "def LinearSearch(arr,x,n):\n",
    "  for i in range(n):\n",
    "    if (arr[i] == x):\n",
    "      return i\n",
    "  return -1   # -1 indicates that an element which you want \n",
    "                  #  to search is not present in an array\n",
    "# Driver Code\n",
    "arr = [53,21,90,32,47,89,90]\n",
    "x = 90\n",
    "n = len(arr)\n",
    "#print(n)\n",
    "LinearSearch(arr,x,n)"
   ]
  },
  {
   "cell_type": "markdown",
   "metadata": {
    "id": "6IzAM3FqcUM0"
   },
   "source": [
    "#### **Binary Search Implementation**"
   ]
  },
  {
   "cell_type": "markdown",
   "metadata": {
    "id": "LUdmqr2DcyDi"
   },
   "source": [
    "##### Steps of Binary Search Implementation:\n",
    "1. Compare x with the middle element.\n",
    "2. If x matches with the middle element, we return the mid index.\n",
    "3. Else if x is greater than the mid element, then x can only lie in the right (greater) half subarray after the mid element. Then we apply the algorithm again for the right half.\n",
    "4. Else if x is smaller, the target x must lie in the left (lower) half. So we apply the algorithm for the left half."
   ]
  },
  {
   "cell_type": "markdown",
   "metadata": {
    "id": "vhrlhDpYh_XD"
   },
   "source": [
    "#### **Recursive Approach of Binary Search**"
   ]
  },
  {
   "cell_type": "code",
   "execution_count": null,
   "metadata": {
    "colab": {
     "base_uri": "https://localhost:8080/"
    },
    "id": "mTKfzwFtaOoy",
    "outputId": "420e0e63-9699-450c-e270-735716fab451"
   },
   "outputs": [
    {
     "name": "stdout",
     "output_type": "stream",
     "text": [
      "-1\n"
     ]
    }
   ],
   "source": [
    "## Binary Search - Recursive Approach\n",
    "def BinarySearch(arr,low,high,x):\n",
    "  # First check whether the problem is big or small\n",
    "  # Considering this as small problem\n",
    "  if (low == high):                                  ##Small Problem -> O(1) \n",
    "    if (arr[low] == x):\n",
    "      return low\n",
    "    else:\n",
    "      return -1                                     ## Element is not present in an array\n",
    "  # Big Problem -> Use Divide and Conquer Algorithm\n",
    "  else:\n",
    "    mid = low + (high - low)//2                       ## Divide -> O(1)\n",
    "    #print(mid)\n",
    "    if (arr[mid] == x):   \n",
    "      return mid                                                                                   \n",
    "    elif (arr[mid] < x):\n",
    "      return BinarySearch(arr,mid+1,high,x)           ## Conquer -> Recursive Call -> T(n/2)\n",
    "    else:\n",
    "      return BinarySearch(arr,low,mid-1,x)            ## Conquer -> Recursive Call -> T(n/2)\n",
    "\n",
    "#arr = [2,5,7,12,34,56,79,80,90]\n",
    "#arr1 = [2,5,7,80,80,100,139,190,290]\n",
    "arr = [2,5]\n",
    "x = 9\n",
    "n = len(arr)\n",
    "pos = BinarySearch(arr,0,n-1,x)                       ## Function Calling\n",
    "print(pos)"
   ]
  },
  {
   "cell_type": "markdown",
   "metadata": {
    "id": "50atygdjh1Ir"
   },
   "source": [
    "#### **Iterative Approach of Binary Search**"
   ]
  },
  {
   "cell_type": "code",
   "execution_count": null,
   "metadata": {
    "colab": {
     "base_uri": "https://localhost:8080/"
    },
    "id": "VuDbhJosh0x5",
    "outputId": "011a59e5-a8db-44dc-d443-a326d900cdc0"
   },
   "outputs": [
    {
     "name": "stdout",
     "output_type": "stream",
     "text": [
      "8\n"
     ]
    }
   ],
   "source": [
    "## Binary Search - Iterative Approach\n",
    "def BinarySearch(arr,low,high,x):\n",
    "  while(low <= high):\n",
    "    # Dividing the problem\n",
    "    mid = low + (high - low)//2\n",
    "    # if x is greater, ignore the left half\n",
    "    if (arr[mid] < x):\n",
    "      low = mid + 1\n",
    "    # if x is smaller, ignore the right half\n",
    "    elif (arr[mid] > x):\n",
    "      high = mid - 1\n",
    "    # x is present at the mid\n",
    "    else:\n",
    "      return mid\n",
    "  # searched element not present in an array\n",
    "  return -1\n",
    "\n",
    "## Drive Code\n",
    "arr = [2,5,7,12,34,56,79,80,90]\n",
    "x = 90\n",
    "n = len(arr)\n",
    "pos = BinarySearch(arr,0,n-1,x)\n",
    "print(pos)"
   ]
  },
  {
   "cell_type": "markdown",
   "metadata": {},
   "source": [
    "### Class Problems solved by own"
   ]
  },
  {
   "cell_type": "markdown",
   "metadata": {},
   "source": [
    "#### Problem 1\n",
    "\n",
    "**Input**: Sorted array of n elements and target sum\n",
    "\n",
    "**Output**: Find any 2 element such that the sum of those two elements is closest to the target sum.\n",
    "\n",
    "For example :\n",
    "\n",
    "array = [10,22,28,29,30,40]   target = 54\n",
    "\n",
    "The pair is 22 and 30"
   ]
  },
  {
   "cell_type": "code",
   "execution_count": 1,
   "metadata": {},
   "outputs": [
    {
     "data": {
      "text/plain": [
       "(22, 30)"
      ]
     },
     "execution_count": 1,
     "metadata": {},
     "output_type": "execute_result"
    }
   ],
   "source": [
    "## Linear Search Approch\n",
    "## Time Complexity is O(n^2)\n",
    "\n",
    "def SumOfTwo(arr,target,n):\n",
    "    diff = target\n",
    "    result_index = None\n",
    "    for i in range(n-1):\n",
    "        for j in range(i+1,n):\n",
    "            res = abs(target - (arr[i] + arr[j]))\n",
    "            if res < diff:\n",
    "                diff = res\n",
    "                result_index = (i,j)\n",
    "    return arr[result_index[0]],arr[result_index[1]]\n",
    "\n",
    "arr = [10,22,28,29,30,40]\n",
    "target = 54\n",
    "n = len(arr)\n",
    "SumOfTwo(arr,target,n)"
   ]
  },
  {
   "cell_type": "code",
   "execution_count": 16,
   "metadata": {},
   "outputs": [
    {
     "name": "stdout",
     "output_type": "stream",
     "text": [
      "(22, 30)\n",
      "2\n"
     ]
    }
   ],
   "source": [
    "#Binary Search Method\n",
    "## Time Complexity O(nlogn)\n",
    "\n",
    "diff = 100000\n",
    "sum_of_two = None\n",
    "def SumOfTwo_BS(arr,target,low,high,n,x):\n",
    "    global diff\n",
    "    global sum_of_two\n",
    "    if low == high:                               #small problem\n",
    "        sum2 = arr[low] + arr[x]\n",
    "        minus = abs(target - sum2)\n",
    "        if minus < diff:\n",
    "            diff = minus\n",
    "            sum_of_two = (arr[x],arr[low])\n",
    "    else:\n",
    "        mid = low + (high - low)//2\n",
    "        sum2 = arr[mid] + arr[x]\n",
    "        minus = abs(target - sum2)\n",
    "        if minus < diff:\n",
    "            diff = minus\n",
    "            sum_of_two = (arr[x],arr[mid])\n",
    "        if sum2 < target:\n",
    "            if mid+1 <= high:\n",
    "                SumOfTwo_BS(arr, target, mid+1, high, n, x)   # right side\n",
    "        elif sum2 > target:\n",
    "            if low <= mid-1:\n",
    "                SumOfTwo_BS(arr, target, low, mid-1, n, x)    # left side\n",
    "        else:\n",
    "            print('Hello')\n",
    "        \n",
    "        \n",
    "arr = [10,22,28,29,30,40]\n",
    "target = 54\n",
    "n = len(arr)\n",
    "for i in range(n - 1):\n",
    "    x = i\n",
    "    low = i + 1\n",
    "    high = n\n",
    "    SumOfTwo_BS(arr,target,low,high-1,n,x)\n",
    "print(sum_of_two)\n",
    "print(diff)"
   ]
  },
  {
   "cell_type": "code",
   "execution_count": 24,
   "metadata": {},
   "outputs": [
    {
     "name": "stdout",
     "output_type": "stream",
     "text": [
      "(22, 30)\n"
     ]
    }
   ],
   "source": [
    "## Greedy or two pointer Approach\n",
    "## Time Complexity - O(n)\n",
    "\n",
    "def SumOfTwo_2p(arr,target,n):\n",
    "    max_value = 100000000\n",
    "    result_pair = None\n",
    "    low = 0\n",
    "    high = n - 1\n",
    "    while low < high:\n",
    "        sum_of_two = arr[low] + arr[high]\n",
    "        diff = abs(target - sum_of_two)\n",
    "        if diff < max_value:\n",
    "            max_value = diff\n",
    "            result_pair = (arr[low],arr[high])\n",
    "        \n",
    "        if sum_of_two < target:\n",
    "            low = low + 1\n",
    "        elif sum_of_two > target:\n",
    "            high = high -1\n",
    "    return result_pair\n",
    "\n",
    "arr = [10,22,28,29,30,40]\n",
    "target = 54\n",
    "n = len(arr)\n",
    "print(SumOfTwo_2p(arr,target,n))"
   ]
  },
  {
   "cell_type": "markdown",
   "metadata": {
    "id": "vs4GA1mTgqqw"
   },
   "source": [
    "##### **Assignment Problem 1 :** \n",
    "input : Sorted array of n distinct elements which are integers\n",
    "\n",
    "output : Find any element in an array such that an array element and it's corresponding index is same meaning array[i] = i.\n",
    "\n",
    "Write an optimised code with its time complexity for above problem statement."
   ]
  },
  {
   "cell_type": "code",
   "execution_count": 35,
   "metadata": {},
   "outputs": [
    {
     "data": {
      "text/plain": [
       "1"
      ]
     },
     "execution_count": 35,
     "metadata": {},
     "output_type": "execute_result"
    }
   ],
   "source": [
    "# Used Binary Search\n",
    "# Time complexity O(logn)\n",
    "\n",
    "def find_same_index_value(arr,low,high,n):\n",
    "    if low == high:\n",
    "        #small problem\n",
    "        if arr[low] == low:\n",
    "            return low\n",
    "    else:\n",
    "        # big problem\n",
    "        mid = low + (high - low)//2\n",
    "        if mid == arr[mid]:\n",
    "            return mid\n",
    "        elif mid > arr[mid]:\n",
    "            #right side\n",
    "            if mid+1 <= high:\n",
    "                return find_same_index_value(arr,mid+1,high,n)\n",
    "        elif mid < arr[mid]:\n",
    "            #left side\n",
    "            if low <= mid-1:\n",
    "                return find_same_index_value(arr,low,mid-1,n)\n",
    "    return -1\n",
    "\n",
    "\n",
    "arr = [-5,1,4,5,10,12]\n",
    "n = len(arr)\n",
    "low = 0\n",
    "high = n - 1\n",
    "find_same_index_value(arr,low,high,n)"
   ]
  },
  {
   "cell_type": "markdown",
   "metadata": {
    "id": "-Yk1MLUXFqKw"
   },
   "source": [
    "**Assignment Problem 2 :**\n",
    "[\n",
    "Two Sum Problem](https://leetcode.com/problems/two-sum/)"
   ]
  }
 ],
 "metadata": {
  "colab": {
   "collapsed_sections": [],
   "name": "SearchAlgorithms.ipynb",
   "provenance": []
  },
  "kernelspec": {
   "display_name": "Python 3",
   "language": "python",
   "name": "python3"
  },
  "language_info": {
   "codemirror_mode": {
    "name": "ipython",
    "version": 3
   },
   "file_extension": ".py",
   "mimetype": "text/x-python",
   "name": "python",
   "nbconvert_exporter": "python",
   "pygments_lexer": "ipython3",
   "version": "3.6.9"
  }
 },
 "nbformat": 4,
 "nbformat_minor": 1
}
