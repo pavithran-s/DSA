{
 "cells": [
  {
   "cell_type": "code",
   "execution_count": 1,
   "metadata": {},
   "outputs": [],
   "source": [
    "# I Implemented without seeing their code\n",
    "# Problem is space complexity going to be O(n) because I'm using extra array to sort\n",
    "def InsertionSort(arr):\n",
    "    sorted_arr = list()\n",
    "    for val in arr:\n",
    "        sorted_arr.append(val)\n",
    "        i = len(sorted_arr) - 1\n",
    "        j = i - 1\n",
    "        while j >= 0:\n",
    "            if sorted_arr[i] < sorted_arr[j]:\n",
    "                sorted_arr[i], sorted_arr[j] = sorted_arr[j], sorted_arr[i]\n",
    "                i -= 1\n",
    "            else:\n",
    "                break\n",
    "            j -= 1\n",
    "    return sorted_arr                "
   ]
  },
  {
   "cell_type": "code",
   "execution_count": 15,
   "metadata": {},
   "outputs": [],
   "source": [
    "# Best Way\n",
    "# Time Complexity - O(n^2)\n",
    "# Space Complexity - O(1)\n",
    "def InsertionSort(arr):\n",
    "    for i in range(1, len(arr)):\n",
    "        temp = arr[i]\n",
    "        j = i - 1\n",
    "        while (arr[j] > temp) and (j >= 0):\n",
    "            arr[j + 1] = arr[j]\n",
    "            j -= 1\n",
    "        arr[j+1] = temp\n",
    "    return arr"
   ]
  },
  {
   "cell_type": "code",
   "execution_count": 16,
   "metadata": {},
   "outputs": [
    {
     "data": {
      "text/plain": [
       "[1, 2, 3, 4, 5, 6, 7, 9]"
      ]
     },
     "execution_count": 16,
     "metadata": {},
     "output_type": "execute_result"
    }
   ],
   "source": [
    "arr = [6,2,7,5,1,9,4,3]\n",
    "InsertionSort(arr)"
   ]
  },
  {
   "cell_type": "code",
   "execution_count": null,
   "metadata": {},
   "outputs": [],
   "source": []
  }
 ],
 "metadata": {
  "kernelspec": {
   "display_name": "Python 3",
   "language": "python",
   "name": "python3"
  },
  "language_info": {
   "codemirror_mode": {
    "name": "ipython",
    "version": 3
   },
   "file_extension": ".py",
   "mimetype": "text/x-python",
   "name": "python",
   "nbconvert_exporter": "python",
   "pygments_lexer": "ipython3",
   "version": "3.6.9"
  }
 },
 "nbformat": 4,
 "nbformat_minor": 2
}
