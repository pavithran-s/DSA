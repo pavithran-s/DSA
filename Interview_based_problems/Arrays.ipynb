{
 "cells": [
  {
   "cell_type": "markdown",
   "metadata": {},
   "source": [
    "### Problem 1\n",
    "It came after binary search <br>\n",
    "Search a Value in a 2D dimentional sorted array. Array is sorted on both row and column wise"
   ]
  },
  {
   "cell_type": "markdown",
   "metadata": {},
   "source": [
    "#### Example\n",
    "1 &emsp; 4 &emsp; 7 &emsp; 11 &emsp; 15 <br>\n",
    "2 &emsp; 5 &emsp; 8 &emsp; 12 &emsp; 19 <br>\n",
    "3 &emsp; 6 &emsp; 9 &emsp; 16 &emsp; 22 <br>\n",
    "10 &emsp;13 &emsp;14 &emsp; 17 &emsp; 24 <br>\n",
    "18 &emsp; 21 &emsp; 23 &emsp; 26 &emsp; 30 <br>\n",
    "\n",
    "Target: 5"
   ]
  },
  {
   "cell_type": "code",
   "execution_count": 1,
   "metadata": {},
   "outputs": [],
   "source": [
    "def findElement_in_2Darray(arr, target):\n",
    "    i = 0\n",
    "    j = len(arr[0]) -1\n",
    "    while (i < len(arr[0]) and j > 0):\n",
    "        if arr[i][j] == target:\n",
    "            return (i,j)\n",
    "        elif arr[i][j] > target:\n",
    "            j -= 1\n",
    "        else:\n",
    "            i += 1\n",
    "        #print(i,j)\n",
    "    return (-1, -1)"
   ]
  },
  {
   "cell_type": "code",
   "execution_count": 2,
   "metadata": {},
   "outputs": [
    {
     "data": {
      "text/plain": [
       "(-1, -1)"
      ]
     },
     "execution_count": 2,
     "metadata": {},
     "output_type": "execute_result"
    }
   ],
   "source": [
    "arr = [[1,4,7,11,15],[2,5,8,12,19],[3,6,9,16,22],[10,13,14,17,24],[18,21,23,26,30]]\n",
    "target = 25\n",
    "# Time Complexity O(n)\n",
    "findElement_in_2Darray(arr, target)"
   ]
  },
  {
   "cell_type": "code",
   "execution_count": null,
   "metadata": {},
   "outputs": [],
   "source": []
  }
 ],
 "metadata": {
  "kernelspec": {
   "display_name": "Python 3",
   "language": "python",
   "name": "python3"
  },
  "language_info": {
   "codemirror_mode": {
    "name": "ipython",
    "version": 3
   },
   "file_extension": ".py",
   "mimetype": "text/x-python",
   "name": "python",
   "nbconvert_exporter": "python",
   "pygments_lexer": "ipython3",
   "version": "3.6.9"
  }
 },
 "nbformat": 4,
 "nbformat_minor": 2
}
